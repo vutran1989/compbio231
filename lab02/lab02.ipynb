{
 "cells": [
  {
   "cell_type": "markdown",
   "metadata": {},
   "source": [
    "### Generating a phylogenetic tree:  \n",
    "**1. Sequence Alignment:**  \n",
    "Uploaded the file seqs.fa into /Volumes/\"Data Center\"/MyPython/compbio231/lab02  \n",
    "Install muscle muscle3.8.31 into /usr/local/bin  \n",
    "Open terminal:  \n",
    "\n",
    "```cd /Volumes/\"Data Center\"/MyPython/compbio231/lab02```   \n",
    "```/usr/local/bin/musle -in seqs.fa -out seqs.aligned.fa```  \n",
    "\n",
    "**2. Turn Aligned Sequences into Newick-formatted Tree:**    \n",
    "Install FastTree through BioConda. Then in terminal:  \n",
    "\n",
    "```fasttree -nt < seqs.aligned.fa > tree.nwk```   \n",
    "\n",
    "**3. Visualize the Tree in Python:**"
   ]
  },
  {
   "cell_type": "code",
   "execution_count": 4,
   "metadata": {},
   "outputs": [
    {
     "name": "stdout",
     "output_type": "stream",
     "text": [
      " , rh.61\n",
      " |\n",
      " |_ rh.58\n",
      " |\n",
      " |                               , pi.2\n",
      " |           ____________________|\n",
      " |          |                    , pi.3\n",
      " |          |                    |\n",
      " |          |                    | pi.1\n",
      " |          |\n",
      " |          |           , rh.10\n",
      " |        __|          _|\n",
      " |       |  |         | , bb.1\n",
      " |       |  |         | |\n",
      " |       |  |  _______| | bb.2\n",
      " |       |  | |       |\n",
      " |       |  | |       | _ hu.17\n",
      " |       |  | |       ||\n",
      " |       |  |_|        | hu.6\n",
      " |       |    |\n",
      " |       |    |    _______ rh.2\n",
      " |       |    |   |\n",
      " |       |    |___|          __ rh.40\n",
      " |       |        |         |\n",
      " |       |        |_________|, hu.67\n",
      " |       |                  ||\n",
      " |       |                  |, hu.37\n",
      " |       |                   |\n",
      " |       |                   , hu.40\n",
      " |       |                   |\n",
      " |       |                   | hu.66\n",
      " |       |                   |\n",
      " |       |                   , hu.41\n",
      " |       |                   |\n",
      " |       |                   | rh.38\n",
      " |       |                   |\n",
      " |       |                   | hu.42\n",
      " |       |\n",
      " |_______|                                         , cy.3\n",
      " |       |                                         |\n",
      " |       |                          _______________, cy.6\n",
      " |       |                         |               |\n",
      " |       |                         |               | cy.4\n",
      " |       |                         |               |\n",
      " |       |                 ________|               , cy.5\n",
      " |       |                |        |               |\n",
      " |       |                |        |               | rh.13\n",
      " |       |                |        |\n",
      " |       |                |        |        , rh.35\n",
      " |       |             ___|        |________|\n",
      " |       |            |   |                 , rh.36\n",
      " |       |            |   |                 |\n",
      " |       |            |   |                 | rh.37\n",
      " |       |            |   |\n",
      " |       |            |   |         ______ cy.2\n",
      " |       |            |   |________|\n",
      " |       |            |            |     __ rh.54\n",
      " |       |    ________|            |____|\n",
      " |       |   |        |                 |      __ rh.55\n",
      " |       |   |        |                 |_____|\n",
      " |       |   |        |                       |, rh.48\n",
      " |       |   |        |                       ||\n",
      " |       |   |        |                        | rh.62\n",
      " |       |   |        |\n",
      " |       |   |        |                               __ hu.43\n",
      " |       |   |        |______________________________|\n",
      " |       |___|                                       |  , hu.48\n",
      " |           |                                       |__|\n",
      " |           |                                          |      , hu.44\n",
      " |           |                                          |______|\n",
      " |           |                                                 | hu.46\n",
      " |           |\n",
      " |           |                                                    _ hu.14\n",
      " |           |      _____________________________________________|\n",
      " |           |     |                                             |  , hu.31\n",
      " |           |_____|                                             |__|\n",
      " |                 |                                                | hu.32\n",
      " |                 |\n",
      " |                 |______________ rh.43\n",
      "_|\n",
      " | rh.64\n",
      " |\n",
      " , rh.57\n",
      " |\n",
      " | rh.51\n",
      " |\n",
      " | rh.49\n",
      " |\n",
      " | rh.53\n",
      " |\n",
      " | rh.50\n",
      " |\n",
      " , rh.52\n",
      " |\n",
      " | hu.39\n",
      "\n"
     ]
    }
   ],
   "source": [
    "from Bio import Phylo\n",
    "\n",
    "tree = Phylo.read('tree.nwk', 'newick')\n",
    "Phylo.draw_ascii(tree)"
   ]
  },
  {
   "cell_type": "markdown",
   "metadata": {},
   "source": [
    "### Identifying sequences by BLAST:  "
   ]
  },
  {
   "cell_type": "code",
   "execution_count": 5,
   "metadata": {},
   "outputs": [
    {
     "name": "stdout",
     "output_type": "stream",
     "text": [
      "ID: pi.2\n",
      "Name: pi.2\n",
      "Description: pi.2\n",
      "Number of features: 0\n",
      "Seq('atggctgctgacggttatcttccagattggctcgaggacaacctctctgagggc...taa', SingleLetterAlphabet())\n"
     ]
    }
   ],
   "source": [
    "from Bio import SeqIO\n",
    "record_dict = SeqIO.index('seqs.fa', 'fasta')\n",
    "print(record_dict[\"pi.2\"])"
   ]
  },
  {
   "cell_type": "code",
   "execution_count": 6,
   "metadata": {},
   "outputs": [
    {
     "name": "stdout",
     "output_type": "stream",
     "text": [
      "ID: pi.2\n",
      "Name: pi.2\n",
      "Description: pi.2\n",
      "Number of features: 0\n",
      "Seq('atggctgctgacggttatcttccagattggctcgaggacaacctctctgagggc...taa', SingleLetterAlphabet())\n"
     ]
    }
   ],
   "source": [
    "record_dict2 = SeqIO.to_dict(SeqIO.parse('seqs.fa', 'fasta'))\n",
    "print(record_dict2[\"pi.2\"])"
   ]
  },
  {
   "cell_type": "code",
   "execution_count": 7,
   "metadata": {},
   "outputs": [
    {
     "name": "stdout",
     "output_type": "stream",
     "text": [
      "pi.2\n",
      "atggctgctgacggttatcttccagattggctcgaggacaacctctctgagggcattcgcgagtggtgggcgctgaaacctggagccccgcaacccaaagccaaccagcaaaagcaggacgacggccggggtctggtgcttcctggctacaagtacctcggacccttcaacggactcgacaagggggagcccgtcaacgaggcggacgccgcggccctcgagcacgacaaggcctacgaccagcagctcaaagcgggtgacaatccgtacctgcggtataatcacgccgacgccgagtttcaagagcgtctgcaagaagatacgtcctttgggggcaacctcgggcgagcagtcttccaggccaaaaagagggtactcgagcctctgggtctggttgaggaaggcgctaagacggctcctggaaagaagcggccagtagaaccggactccagctcgggcatcggcaagtcaggccggcagcccgcgaaaaagagactgaattttgggcagactggcgactcagagtcagtgcctgacccccaacctctctcagaaccacccgcaggtccctctggtctgggatctggtacaatggctgcaggcggtggcgctccaatggcagacaataacgaaggcgccgacggagtgggtaatgcctcaggaaattggcattgcgattccacatggctgggcgaccgagtcatcaccaccagcactcggacctgggccctccccacctacaacaaccacctctacaagcaaatctccaacgggacctcgggaggcagcagcaacgacaacacctactttggctacagcaccccctgggggtattttgactttaacagattccactgccacttttcaccacgtgactggcagcgactcatcaacaacaactggggattccggcccaagaggctcaacttcaagctcttcaacatccaggtcaaggaggtcacccagaatgaaggcaccaagaccatcgccaataacctcaccagcacggtgcaggtctttacggactcgaagtaccagctcccgtacgtgctcggctctgcccaccagggctgcctgcctccgttcccggcggacgtgttcatgattccgcagtacgggtacctgacgctgaacaacgggagccaggccgtggggcgatcctccttctactgcctggagtactttccctcgcagatgctgagaacgggcaacaactttaccttcagctacaccttcgaggacgtgcccttccacagcagctacgcgcacagccagagcctggaccggctgatgaacccgctgattgaccagtacctgtactacctgtctcggactcagaccaacgggaccaatgccacgcagactctgttgtttgctcaggccgggcctcagaacatgtcggctcaggccaagaactggctgcctggtccttgctatcggcagcagcgcgtctctacgacagtgtcgcaaaacaacaacagcaactttacctggaccggggcgaccaagtaccacctgaacggccgagactccctggtgaaccccggtgtcgccatggcaacgcacaaggacgacgaggagcgcttcttcccgagcagcggggtcctgatgtttggcaagcagggcgctggaaaggacaatgtcgagtacaccaacgtgatgctcaccagcgaggaggagatcaagaccaccaaccctgtggccacggagcagtacggtgtggtggctgacaatctgcagcagaccaactcggctcccattgtgggggcagtcaacagccagggggccttacccggtatggtctggcagaaccgggacgtgtacctgcagggtcccatctgggccaagatcccgcatacggacggcaactttcacccgtctcctctcatgggcggctttggactgaaacacccgcctccccagatcctgatcaaaaacacgccggtacctgcggatcccccggtgaactttacggacgctaagctggcgagtttcatcacgcagtacagcaccgggcaggtcagcgtggagattgagtgggagctgcagaaggagaacagcaagcgctggaatcccgagattcagtacacttccaattattataaatcagctaatgtggactttgccgtcaatgcagatggtgtatatagtgaaccccgccccattggcactcgttacctcacccgtaatctgtaa\n"
     ]
    }
   ],
   "source": [
    "print(record_dict2[\"pi.2\"].id)\n",
    "print(record_dict2[\"pi.2\"].seq)"
   ]
  },
  {
   "cell_type": "code",
   "execution_count": 8,
   "metadata": {},
   "outputs": [
    {
     "name": "stdout",
     "output_type": "stream",
     "text": [
      "rh.10\n",
      "atggctgccgatggttatcttccagattggctcgaggacaacctctctgagggcattcgcgagtggtgggacttgaaacctggagccccgaaacccaaagccaaccagcaaaagcaggacgacggccggggtctggtgcttcctggctacaagtacctcggacccttcaacggactcgacaagggggagcccgtcaacgcggcggacgcagcggccctcgagcacgacaaggcctacgaccagcagctcaaagcgggtgacaatccgtacctgcggtataaccacgccgacgccgagtttcaggagcgtctgcaagaagatacgtcttttgggggcaacctcgggcgagcagtcttccaggccaagaagcgggttctcgaacctctcggtctggttgaggaaggcgctaagacggctcctggaaagaagagaccggtagagccatcaccccagcgttctccagactcctctacgggcatcggcaagaaaggccagcagcccgcgaaaaagagactcaactttgggcagactggcgactcagagtcagtgcccgaccctcaaccaatcggagaaccccccgcaggcccctctggtctgggatctggtacaatggctgcaggcggtggcgctccaatggcagacaataacgaaggcgccgacggagtgggtagttcctcaggaaattggcattgcgattccacatggctgggcgacagagtcatcaccaccagcacccgaacctgggccctccccacctacaacaaccacctctacaagcaaatctccaacgggacttcgggaggaagcaccaacgacaacacctacttcggctacagcaccccctgggggtattttgactttaacagattccactgccacttctcaccacgtgactggcagcgactcatcaacaacaactggggattccggcccaagagactcaacttcaagctcttcaacatccaggtcaaggaggtcacgcagaatgaaggcaccaagaccatcgccaataaccttaccagcacgattcaggtctttacggactcggaataccagctcccgtacgtcctcggctctgcgcaccagggctgcctgcctccgttcccggcggacgtcttcatgattcctcagtacgggtacctgactctgaacaatggcagtcaggccgtgggccgttcctccttctactgcctggagtactttccttctcaaatgctgagaacgggcaacaactttgagttcagctaccagtttgaggacgtgccttttcacagcagctacgcgcacagccaaagcctggaccggctgatgaaccccctcatcgaccagtacctgtactacctgtctcggactcagtccacgggaggtaccgcaggaactcagcagttgctattttctcaggccgggcctaataacatgtcggctcaggccaaaaactggctacccgggccctgctaccggcagcaacgcgtctccacgacactgtcgcaaaataacaacagcaactttgcctggaccggtgccaccaagtatcatctgaatggcagagactctctggtaaatcccggtgtcgctatggcaacccacaaggacgacgaagagcgattttttccgtccagcggagtcttaatgtttgggaaacagggagctggaaaagacaacgtggactatagcagcgttatgctaaccagtgaggaagaaattaaaaccaccaacccagtggccacagaacagtacggcgtggtggccgataacctgcaacagcaaaacgccgctcctattgtaggggccgtcaacagtcaaggagccttacctggcatggtctggcagaaccgggacgtgtacctgcagggtcctatctgggccaagattcctcacacggacggaaactttcatccctcgccgctgatgggaggctttggactgaaacacccgcctcctcagatcctgattaagaatacacctgttcccgcggatcctccaactaccttcagtcaagctaagctggcgtcgttcatcacgcagtacagcaccggacaggtcagcgtggaaattgaatgggagctgcagaaagaaaacagcaaacgctggaacccagagattcaatacacttccaactactacaaatctacaaatgtggactttgctgttaacacagatggcacttattctgagcctcgccccatcggcacccgttacctcacccgtaatctgtaa\n"
     ]
    }
   ],
   "source": [
    "print(record_dict2[\"rh.10\"].id)\n",
    "print(record_dict2[\"rh.10\"].seq)"
   ]
  },
  {
   "cell_type": "code",
   "execution_count": 9,
   "metadata": {},
   "outputs": [
    {
     "name": "stdout",
     "output_type": "stream",
     "text": [
      "hu.40\n",
      "atggctgctgacggttatcttccagattggctcgaggacaacctctctgagggcattcgcgagtggtgggacctgaaacctggagcccccaagcccaaggccaaccagcagaagcaggacgacggccggggtctggtgcttcctggctacaagtacctcggacccttcaacggactcgacaagggggagcccgtcaacgcggcggacgcagcggccctcgagcacgacaaggcctacgaccagcagctcaaagcgggtgacaatccgtacctgcggtataaccacgccgacgccgagtttcaggagcgtctgcaagaagatacgtcttttgggggcaacctcgggcgagcagtcttccaggccaagaagcgggttctcgaacctctcggtctggttgaggaagctgctaagacggctcctggaaagaagagaccggtagaaccgtcacctcagcgttcccccgactcctccacgggcatcggcaagaaaggccagcagcccgctaaaaagagactgagctttggtcagactggcgactcagagtcagtccccgaccctcaaccaatcggagaaccaccagcaggcccctctggtctgggatctggtacaatggctgcaggcggtggcgctccaatggcagacaataacgaaggcgccgacggagtgggtagttcctcaggaaattggcattgcgattccacatggctgggcgacagagtcatcaccaccagcacccgaacctgggccctgcccacctacaacaaccacctctacaagcaaatatccaatgggacatcgggaggaagcaccaacgacaacacctacttcggctacagcaccccctgggggtattttgacttcaacagattccactgccacttctcaccacgtgactggcagcgactcatcaacaacaactggggattccggccaaaaagactcagcttcaagctcttcaacatccaggtcaaggaggtcacgcagaatgaaggcaccaagaccatcgccaataaccttaccagcacgattcaggtatttacggactcggaataccagctgccgtacgtcctcggctccgcgcaccagggctgcctgcctccgttcccggcggacgtcttcatgattccccagtacggctaccttacactgaacaatggaagtcaagccgtaggccgttcctccttctactgcctggaatattttccatctcaaatgctgcgaactggaaacaattctgaattcagctacaccttcgaggacgtgcctttccacagcagctacgcacacagccagagcttggaccgactgatgaatcctctcatcgaccagtacctgtactacttatccagaactcagtccacaggaggaactcaaggtacccagcaattgttattttctcaagctgggcctgcaaacatgtcggctcaggctaagaactggctacctggaccttgctaccggcagcagcgagtctctacgacactgtcgcaaaacaacaacagcaactttgcttggactggtgccaccaaatatcacctgaacggaagagactctttggtaaatcccggtgtcgccatggcaacccacaaggacgacgaggaacgcttcttcccgtcgagtggagtcctgatgtttggaaaacagggtgctggaagagacaatgtggactacagcagcgttatgctaaccagcgaagaagaaattaaaaccactaaccctgtagccacagaacaatacggtgtggtggctgacaacttgcagcaaaccaatacagggcctattgtgggaaatgtcaacagccaaggagccttacctggcatggtctggcagaaccgagacgtgtacctgcagggtcccatctgggccaagattcctcacacggacggcaacttccacccttcaccgctaatgggaggatttggactgaagcacccacctcctcagatcctgatcaagaacacgccggtacctgcggatcctccaacaacgttcagccaggcgaaattggcttccttcattacgcagtacagcaccggacaggtcagcgtggaaatcgagtgggagctgcagaaggagaacagcaaacgctggaacccagagattcagtacacttcaaactactacaaatctacaaatgtggactttgctgtcaatacagagggaacttattctgagcctcgccccattggtactcgttacctcacccgtaatctgtaa\n"
     ]
    }
   ],
   "source": [
    "print(record_dict2[\"hu.40\"].id)\n",
    "print(record_dict2[\"hu.40\"].seq)"
   ]
  },
  {
   "cell_type": "markdown",
   "metadata": {},
   "source": [
    "BLAST: https://blast.ncbi.nlm.nih.gov/Blast.cgi  \n",
    "\n",
    "|Sequence|BLAST result|\n",
    "|---|---|\n",
    "|pi.2|Adeno-associated virus isolate pi.2 capsid protein VP1 (cap) gene, complete cds|\n",
    "|rh.10|Non-human primate Adeno-associated virus isolate AAVrh.10 capsid protein (VP1) gene, complete cds|\n",
    "|hu.40|Adeno-associated virus isolate hu.40 capsid protein VP1 (cap) gene, complete cds|"
   ]
  },
  {
   "cell_type": "markdown",
   "metadata": {},
   "source": [
    "### Generate Tree through Muscle:  \n",
    "\n",
    "**1. UPGMA Tree:**\n",
    "\n",
    "```/usr/local/bin/muscle -in seqs.aligned.fa -out seqs.phy```"
   ]
  },
  {
   "cell_type": "code",
   "execution_count": 11,
   "metadata": {},
   "outputs": [
    {
     "name": "stdout",
     "output_type": "stream",
     "text": [
      "                                                                    , hu.31\n",
      "                                                              ______|\n",
      "  ___________________________________________________________|      | hu.32\n",
      " |                                                           |\n",
      " |                                                           |______ hu.14\n",
      " |\n",
      " |                                                                 _ hu.44\n",
      " |                                                         _______|\n",
      " |                                                        |       |_ hu.46\n",
      " |                  ______________________________________|\n",
      " |                 |                                      |   ______ hu.43\n",
      " |                 |                                      |__|\n",
      " |                 |                                         |______ hu.48\n",
      " |                 |\n",
      " |                 |                                               , pi.3\n",
      "_|                 |              _________________________________|\n",
      " |                 |             |                                 , pi.1\n",
      " |                 |             |                                 |\n",
      " |                 |             |                                 | pi.2\n",
      " |                 |             |\n",
      " |                 |             | _________________________________ rh.43\n",
      " |                 |          ___||\n",
      " |                 |         |   ||                               __ rh.58\n",
      " |                 |         |   ||           ___________________|\n",
      " |                 |         |   ||          |                   | , hu.39\n",
      " |                 |         |   ||          |                   |_|\n",
      " |                 |         |   ||          |                     , rh.57\n",
      " |                 |         |   ||          |                     |\n",
      " |                 |         |   ||          |                     , rh.51\n",
      " |_________________|         |    |          |                     |\n",
      "                   |         |    |          |                     , rh.49\n",
      "                   |         |    |          |                     |\n",
      "                   |         |    |          |                     , rh.61\n",
      "                   |         |    |          |                     |\n",
      "                   |         |    |          |                     |, rh.52\n",
      "                   |         |    |          |                     ||\n",
      "                   |         |    |__________|                      , rh.53\n",
      "                   |         |               |                      |\n",
      "                   |         |               |                      , rh.50\n",
      "                   |         |               |                      |\n",
      "                   |         |               |                      | rh.64\n",
      "                   |         |               |\n",
      "                   |         |               |                     , bb.1\n",
      "                   |         |               |                   __|\n",
      "                   |         |               |                  |  |, bb.2\n",
      "                   |         |               |                  |  ||\n",
      "                   |         |               |  ________________|   | rh.10\n",
      "                   |         |               | |                |\n",
      "                   |         |               | |                | ___ hu.17\n",
      "                   |_________|               |_|                ||\n",
      "                             |                 |                 |___ hu.6\n",
      "                             |                 |\n",
      "                             |                 |____________________ rh.2\n",
      "                             |                 |\n",
      "                             |                 |               _____ rh.40\n",
      "                             |                 |______________|\n",
      "                             |                                |    , hu.66\n",
      "                             |                                |____|\n",
      "                             |                                     , rh.38\n",
      "                             |                                     |\n",
      "                             |                                     , hu.41\n",
      "                             |                                     |\n",
      "                             |                                     |, hu.67\n",
      "                             |                                     ||\n",
      "                             |                                      , hu.42\n",
      "                             |                                      |\n",
      "                             |                                      , hu.37\n",
      "                             |                                      |\n",
      "                             |                                      | hu.40\n",
      "                             |\n",
      "                             |                      ________________ cy.2\n",
      "                             |   __________________|\n",
      "                             |  |                  |     ___________ rh.54\n",
      "                             |  |                  |____|\n",
      "                             |  |                       |        ___ rh.55\n",
      "                             |  |                       |_______|\n",
      "                             |  |                               |   , rh.48\n",
      "                             |__|                               |___|\n",
      "                                |                                   | rh.62\n",
      "                                |\n",
      "                                |                                   , rh.37\n",
      "                                |         __________________________|\n",
      "                                |        |                          , rh.35\n",
      "                                |        |                          |\n",
      "                                |________|                          | rh.36\n",
      "                                         |\n",
      "                                         |                         , cy.4\n",
      "                                         |_________________________|\n",
      "                                                                   , cy.3\n",
      "                                                                   |\n",
      "                                                                   , cy.6\n",
      "                                                                   |\n",
      "                                                                   |, cy.5\n",
      "                                                                   ||\n",
      "                                                                    | rh.13\n",
      "\n"
     ]
    }
   ],
   "source": [
    "tree2 = Phylo.read('seqs.phy','newick')\n",
    "Phylo.draw_ascii(tree2)"
   ]
  },
  {
   "cell_type": "markdown",
   "metadata": {},
   "source": [
    "### Generate Tree through Muscle:  \n",
    "\n",
    "**2. Neighbor-Joining Tree:**  \n",
    "\n",
    "```/usr/local/bin/muscle -maketree -in seqs.aligned.fa -out seqs2.phy -cluster neighborjoining```"
   ]
  },
  {
   "cell_type": "code",
   "execution_count": 12,
   "metadata": {},
   "outputs": [
    {
     "name": "stdout",
     "output_type": "stream",
     "text": [
      "                             , rh.38\n",
      "                             |\n",
      "                             | hu.41\n",
      "                             |\n",
      "                             | hu.66\n",
      "                             |\n",
      "                             | hu.40\n",
      "                             |\n",
      "                             | hu.67\n",
      "                             |\n",
      "                           __| hu.42\n",
      "                          |  |\n",
      "                  ________|  | hu.37\n",
      "                 |        |\n",
      "               __|        |___ rh.40\n",
      "              |  |\n",
      "              |  |_________ rh.2\n",
      "             _|\n",
      "            | |         , hu.6\n",
      "            | |        ,|\n",
      "            | |        ||_ hu.17\n",
      "            | |________|\n",
      "            |          | , bb.2\n",
      "            |          |,|\n",
      "            |          ||| bb.1\n",
      "            |           |\n",
      "            |           | rh.10\n",
      "            |\n",
      "            |                                                     , hu.46\n",
      "            |                                             ________|\n",
      "            |                                         ___|        | hu.44\n",
      "            |                                        |   |\n",
      "            |            ____________________________|   | hu.48\n",
      "            |           |                            |\n",
      "            |           |                            |_ hu.43\n",
      "            |         __|\n",
      "            |        |  |                                           , hu.32\n",
      "            |        |  |                                        ___|\n",
      "            |        |  |_______________________________________|   | hu.31\n",
      "            |        |                                          |\n",
      "   _________|        |                                          |__ hu.14\n",
      "  |         |        |\n",
      "  |         |        |                    , rh.62\n",
      "  |         |        |                  __|\n",
      "  |         |    ____|              ___|  | rh.48\n",
      "  |         |   |    |             |   |\n",
      "  |         |   |    |           __|   |_ rh.55\n",
      "  |         |   |    |          |  |\n",
      "  |         |   |    |   _______|  |_____ rh.54\n",
      "  |         |   |    |  |       |\n",
      "  |         |   |    |  |       |_________ cy.2\n",
      "  |         |   |    |  |\n",
      "  |         |   |    |  |                  , rh.37\n",
      "  |         |   |    |__|                  |\n",
      "  |         |   |       |         _________| rh.36\n",
      "  |         |   |       |        |         |\n",
      "  |         |  _|       |        |         | rh.35\n",
      "  |         | | |       |        |\n",
      " ,|         | | |       |        |                 , cy.5\n",
      " ||         | | |       |________|                 |\n",
      " ||         | | |                |                 | cy.4\n",
      " ||         | | |                |                 |\n",
      " ||         | | |                |                 | cy.3\n",
      " ||         | | |                |                 |\n",
      " ||         |_| |                |_________________| cy.6\n",
      " ||           | |                                  |\n",
      " ||           | |                                  | rh.13\n",
      " ||           | |\n",
      " ||           | |__________________ rh.43\n",
      " ||           |\n",
      " ||           |                    , pi.1\n",
      " ||           |                    |\n",
      " ||           |____________________| pi.3\n",
      " ||                                |\n",
      " ||                                | pi.2\n",
      " ||\n",
      " ||_ rh.58\n",
      " |\n",
      " | rh.61\n",
      " |\n",
      " , rh.51\n",
      " |\n",
      " | rh.57\n",
      " |\n",
      " | rh.49\n",
      " |\n",
      " | rh.64\n",
      " |\n",
      " | rh.53\n",
      " |\n",
      " | rh.52\n",
      "_|\n",
      " | rh.50\n",
      " |\n",
      " | hu.39\n",
      "\n"
     ]
    }
   ],
   "source": [
    "tree3 = Phylo.read('seqs2.phy','newick')\n",
    "Phylo.draw_ascii(tree3)"
   ]
  },
  {
   "cell_type": "code",
   "execution_count": null,
   "metadata": {},
   "outputs": [],
   "source": []
  }
 ],
 "metadata": {
  "kernelspec": {
   "display_name": "Python 3",
   "language": "python",
   "name": "python3"
  },
  "language_info": {
   "codemirror_mode": {
    "name": "ipython",
    "version": 3
   },
   "file_extension": ".py",
   "mimetype": "text/x-python",
   "name": "python",
   "nbconvert_exporter": "python",
   "pygments_lexer": "ipython3",
   "version": "3.7.0"
  }
 },
 "nbformat": 4,
 "nbformat_minor": 2
}
